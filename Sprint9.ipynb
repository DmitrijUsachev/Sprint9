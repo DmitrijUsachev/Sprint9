{
 "cells": [
  {
   "cell_type": "markdown",
   "id": "fbd0fbe8",
   "metadata": {},
   "source": [
    "# 1. Постановка задачи"
   ]
  },
  {
   "cell_type": "markdown",
   "id": "61dd2608",
   "metadata": {},
   "source": [
    "Требуется защитить данные клиентов страховой компании «Хоть потоп». Разработать метод преобразования данных,такой чтобы по ним было сложно восстановить персональную информацию. Обосновать корректность его работы.\n",
    "Нужно защитить данные, чтобы при преобразовании качество моделей машинного обучения не ухудшилось. Подбирать наилучшую модель не требуется."
   ]
  },
  {
   "cell_type": "markdown",
   "id": "d2164fa2",
   "metadata": {},
   "source": [
    "**Описание данных**"
   ]
  },
  {
   "cell_type": "markdown",
   "id": "e301ed16",
   "metadata": {},
   "source": [
    "Признаки: пол, возраст и зарплата застрахованного, количество членов его семьи.   \n",
    "Целевой признак: количество страховых выплат клиенту за последние 5 лет."
   ]
  },
  {
   "cell_type": "markdown",
   "id": "e6108360",
   "metadata": {},
   "source": [
    "# 2. Загрузка данных "
   ]
  },
  {
   "cell_type": "markdown",
   "id": "3a6ff161",
   "metadata": {},
   "source": [
    "## 2.1. Импорт библиотек и загрузка данных "
   ]
  },
  {
   "cell_type": "markdown",
   "id": "bca32530",
   "metadata": {},
   "source": [
    "**Импорт библиотек**"
   ]
  },
  {
   "cell_type": "code",
   "execution_count": 1,
   "id": "34e1a853",
   "metadata": {},
   "outputs": [],
   "source": [
    "import numpy as np\n",
    "import pandas as pd\n",
    "import matplotlib.pyplot as plt\n",
    "import seaborn as sns\n",
    "from sklearn.linear_model import LinearRegression\n",
    "from sklearn.metrics import r2_score\n",
    "from sklearn.metrics import mean_squared_error\n",
    "from sklearn.model_selection import train_test_split"
   ]
  },
  {
   "cell_type": "markdown",
   "id": "e871223c",
   "metadata": {},
   "source": [
    "**Импорт данных**"
   ]
  },
  {
   "cell_type": "code",
   "execution_count": 2,
   "id": "49157e0f",
   "metadata": {},
   "outputs": [],
   "source": [
    "def read_data_set(pth1, pth2) -> pd.DataFrame:\n",
    "    df = pd.DataFrame    \n",
    "    try:\n",
    "        df = pd.read_csv(pth1)\n",
    "    except OSError as e:\n",
    "        df = pd.read_csv(pth2)\n",
    "    return df"
   ]
  },
  {
   "cell_type": "code",
   "execution_count": 3,
   "id": "2107f485",
   "metadata": {},
   "outputs": [],
   "source": [
    "pth1 = '\\Спринт 7. Линейная алгебра\\datasets\\insurance.csv'         \n",
    "pth2 = 'https://code.s3.yandex.net/datasets/insurance.csv'"
   ]
  },
  {
   "cell_type": "code",
   "execution_count": 4,
   "id": "790349f7",
   "metadata": {},
   "outputs": [],
   "source": [
    "df = read_data_set(pth1, pth2);"
   ]
  },
  {
   "cell_type": "code",
   "execution_count": 5,
   "id": "67f75841",
   "metadata": {},
   "outputs": [
    {
     "name": "stdout",
     "output_type": "stream",
     "text": [
      "<class 'pandas.core.frame.DataFrame'>\n",
      "RangeIndex: 5000 entries, 0 to 4999\n",
      "Data columns (total 5 columns):\n",
      " #   Column             Non-Null Count  Dtype  \n",
      "---  ------             --------------  -----  \n",
      " 0   Пол                5000 non-null   int64  \n",
      " 1   Возраст            5000 non-null   float64\n",
      " 2   Зарплата           5000 non-null   float64\n",
      " 3   Члены семьи        5000 non-null   int64  \n",
      " 4   Страховые выплаты  5000 non-null   int64  \n",
      "dtypes: float64(2), int64(3)\n",
      "memory usage: 195.4 KB\n"
     ]
    }
   ],
   "source": [
    "df.info()"
   ]
  },
  {
   "cell_type": "code",
   "execution_count": 6,
   "id": "957f5d9c",
   "metadata": {},
   "outputs": [],
   "source": [
    "df.columns = df.columns.str.lower()\n",
    "df.columns = df.columns.str.replace(' ','_')"
   ]
  },
  {
   "cell_type": "code",
   "execution_count": 7,
   "id": "fa3beaee",
   "metadata": {},
   "outputs": [
    {
     "data": {
      "text/html": [
       "<div>\n",
       "<style scoped>\n",
       "    .dataframe tbody tr th:only-of-type {\n",
       "        vertical-align: middle;\n",
       "    }\n",
       "\n",
       "    .dataframe tbody tr th {\n",
       "        vertical-align: top;\n",
       "    }\n",
       "\n",
       "    .dataframe thead th {\n",
       "        text-align: right;\n",
       "    }\n",
       "</style>\n",
       "<table border=\"1\" class=\"dataframe\">\n",
       "  <thead>\n",
       "    <tr style=\"text-align: right;\">\n",
       "      <th></th>\n",
       "      <th>пол</th>\n",
       "      <th>возраст</th>\n",
       "      <th>зарплата</th>\n",
       "      <th>члены_семьи</th>\n",
       "      <th>страховые_выплаты</th>\n",
       "    </tr>\n",
       "  </thead>\n",
       "  <tbody>\n",
       "    <tr>\n",
       "      <th>3724</th>\n",
       "      <td>1</td>\n",
       "      <td>35.0</td>\n",
       "      <td>42500.0</td>\n",
       "      <td>0</td>\n",
       "      <td>0</td>\n",
       "    </tr>\n",
       "    <tr>\n",
       "      <th>4948</th>\n",
       "      <td>1</td>\n",
       "      <td>37.0</td>\n",
       "      <td>38000.0</td>\n",
       "      <td>1</td>\n",
       "      <td>0</td>\n",
       "    </tr>\n",
       "    <tr>\n",
       "      <th>4162</th>\n",
       "      <td>0</td>\n",
       "      <td>46.0</td>\n",
       "      <td>37700.0</td>\n",
       "      <td>1</td>\n",
       "      <td>1</td>\n",
       "    </tr>\n",
       "    <tr>\n",
       "      <th>2352</th>\n",
       "      <td>1</td>\n",
       "      <td>45.0</td>\n",
       "      <td>42000.0</td>\n",
       "      <td>2</td>\n",
       "      <td>1</td>\n",
       "    </tr>\n",
       "    <tr>\n",
       "      <th>1700</th>\n",
       "      <td>0</td>\n",
       "      <td>37.0</td>\n",
       "      <td>30900.0</td>\n",
       "      <td>1</td>\n",
       "      <td>0</td>\n",
       "    </tr>\n",
       "    <tr>\n",
       "      <th>3874</th>\n",
       "      <td>0</td>\n",
       "      <td>23.0</td>\n",
       "      <td>37500.0</td>\n",
       "      <td>0</td>\n",
       "      <td>0</td>\n",
       "    </tr>\n",
       "    <tr>\n",
       "      <th>3031</th>\n",
       "      <td>1</td>\n",
       "      <td>47.0</td>\n",
       "      <td>54400.0</td>\n",
       "      <td>1</td>\n",
       "      <td>1</td>\n",
       "    </tr>\n",
       "    <tr>\n",
       "      <th>3208</th>\n",
       "      <td>0</td>\n",
       "      <td>42.0</td>\n",
       "      <td>33400.0</td>\n",
       "      <td>2</td>\n",
       "      <td>0</td>\n",
       "    </tr>\n",
       "    <tr>\n",
       "      <th>1270</th>\n",
       "      <td>0</td>\n",
       "      <td>35.0</td>\n",
       "      <td>46100.0</td>\n",
       "      <td>0</td>\n",
       "      <td>0</td>\n",
       "    </tr>\n",
       "    <tr>\n",
       "      <th>3439</th>\n",
       "      <td>1</td>\n",
       "      <td>27.0</td>\n",
       "      <td>30900.0</td>\n",
       "      <td>0</td>\n",
       "      <td>0</td>\n",
       "    </tr>\n",
       "  </tbody>\n",
       "</table>\n",
       "</div>"
      ],
      "text/plain": [
       "      пол  возраст  зарплата  члены_семьи  страховые_выплаты\n",
       "3724    1     35.0   42500.0            0                  0\n",
       "4948    1     37.0   38000.0            1                  0\n",
       "4162    0     46.0   37700.0            1                  1\n",
       "2352    1     45.0   42000.0            2                  1\n",
       "1700    0     37.0   30900.0            1                  0\n",
       "3874    0     23.0   37500.0            0                  0\n",
       "3031    1     47.0   54400.0            1                  1\n",
       "3208    0     42.0   33400.0            2                  0\n",
       "1270    0     35.0   46100.0            0                  0\n",
       "3439    1     27.0   30900.0            0                  0"
      ]
     },
     "execution_count": 7,
     "metadata": {},
     "output_type": "execute_result"
    }
   ],
   "source": [
    "df.sample(10)"
   ]
  },
  {
   "cell_type": "code",
   "execution_count": 8,
   "id": "625e5863",
   "metadata": {},
   "outputs": [
    {
     "data": {
      "text/plain": [
       "153"
      ]
     },
     "execution_count": 8,
     "metadata": {},
     "output_type": "execute_result"
    }
   ],
   "source": [
    "df.duplicated().sum()"
   ]
  },
  {
   "cell_type": "code",
   "execution_count": 9,
   "id": "f57ca9fe",
   "metadata": {},
   "outputs": [
    {
     "data": {
      "text/plain": [
       "пол                  0\n",
       "возраст              0\n",
       "зарплата             0\n",
       "члены_семьи          0\n",
       "страховые_выплаты    0\n",
       "dtype: int64"
      ]
     },
     "execution_count": 9,
     "metadata": {},
     "output_type": "execute_result"
    }
   ],
   "source": [
    "df.isna().sum()"
   ]
  },
  {
   "cell_type": "markdown",
   "id": "9fb7c216",
   "metadata": {},
   "source": [
    "Пропусков нет. Тип переменной, в которой записан пол можно поменять на булевый, но для нас не критично"
   ]
  },
  {
   "cell_type": "code",
   "execution_count": 10,
   "id": "e1eb1b5a",
   "metadata": {},
   "outputs": [
    {
     "data": {
      "text/html": [
       "<div>\n",
       "<style scoped>\n",
       "    .dataframe tbody tr th:only-of-type {\n",
       "        vertical-align: middle;\n",
       "    }\n",
       "\n",
       "    .dataframe tbody tr th {\n",
       "        vertical-align: top;\n",
       "    }\n",
       "\n",
       "    .dataframe thead th {\n",
       "        text-align: right;\n",
       "    }\n",
       "</style>\n",
       "<table border=\"1\" class=\"dataframe\">\n",
       "  <thead>\n",
       "    <tr style=\"text-align: right;\">\n",
       "      <th></th>\n",
       "      <th>пол</th>\n",
       "      <th>возраст</th>\n",
       "      <th>зарплата</th>\n",
       "      <th>члены_семьи</th>\n",
       "      <th>страховые_выплаты</th>\n",
       "    </tr>\n",
       "  </thead>\n",
       "  <tbody>\n",
       "    <tr>\n",
       "      <th>count</th>\n",
       "      <td>5000.000000</td>\n",
       "      <td>5000.000000</td>\n",
       "      <td>5000.000000</td>\n",
       "      <td>5000.000000</td>\n",
       "      <td>5000.000000</td>\n",
       "    </tr>\n",
       "    <tr>\n",
       "      <th>mean</th>\n",
       "      <td>0.499000</td>\n",
       "      <td>30.952800</td>\n",
       "      <td>39916.360000</td>\n",
       "      <td>1.194200</td>\n",
       "      <td>0.148000</td>\n",
       "    </tr>\n",
       "    <tr>\n",
       "      <th>std</th>\n",
       "      <td>0.500049</td>\n",
       "      <td>8.440807</td>\n",
       "      <td>9900.083569</td>\n",
       "      <td>1.091387</td>\n",
       "      <td>0.463183</td>\n",
       "    </tr>\n",
       "    <tr>\n",
       "      <th>min</th>\n",
       "      <td>0.000000</td>\n",
       "      <td>18.000000</td>\n",
       "      <td>5300.000000</td>\n",
       "      <td>0.000000</td>\n",
       "      <td>0.000000</td>\n",
       "    </tr>\n",
       "    <tr>\n",
       "      <th>25%</th>\n",
       "      <td>0.000000</td>\n",
       "      <td>24.000000</td>\n",
       "      <td>33300.000000</td>\n",
       "      <td>0.000000</td>\n",
       "      <td>0.000000</td>\n",
       "    </tr>\n",
       "    <tr>\n",
       "      <th>50%</th>\n",
       "      <td>0.000000</td>\n",
       "      <td>30.000000</td>\n",
       "      <td>40200.000000</td>\n",
       "      <td>1.000000</td>\n",
       "      <td>0.000000</td>\n",
       "    </tr>\n",
       "    <tr>\n",
       "      <th>75%</th>\n",
       "      <td>1.000000</td>\n",
       "      <td>37.000000</td>\n",
       "      <td>46600.000000</td>\n",
       "      <td>2.000000</td>\n",
       "      <td>0.000000</td>\n",
       "    </tr>\n",
       "    <tr>\n",
       "      <th>max</th>\n",
       "      <td>1.000000</td>\n",
       "      <td>65.000000</td>\n",
       "      <td>79000.000000</td>\n",
       "      <td>6.000000</td>\n",
       "      <td>5.000000</td>\n",
       "    </tr>\n",
       "  </tbody>\n",
       "</table>\n",
       "</div>"
      ],
      "text/plain": [
       "               пол      возраст      зарплата  члены_семьи  страховые_выплаты\n",
       "count  5000.000000  5000.000000   5000.000000  5000.000000        5000.000000\n",
       "mean      0.499000    30.952800  39916.360000     1.194200           0.148000\n",
       "std       0.500049     8.440807   9900.083569     1.091387           0.463183\n",
       "min       0.000000    18.000000   5300.000000     0.000000           0.000000\n",
       "25%       0.000000    24.000000  33300.000000     0.000000           0.000000\n",
       "50%       0.000000    30.000000  40200.000000     1.000000           0.000000\n",
       "75%       1.000000    37.000000  46600.000000     2.000000           0.000000\n",
       "max       1.000000    65.000000  79000.000000     6.000000           5.000000"
      ]
     },
     "execution_count": 10,
     "metadata": {},
     "output_type": "execute_result"
    }
   ],
   "source": [
    "df.describe()"
   ]
  },
  {
   "cell_type": "code",
   "execution_count": 11,
   "id": "8d7dd734",
   "metadata": {},
   "outputs": [
    {
     "data": {
      "text/plain": [
       "пол  возраст  зарплата  члены_семьи  страховые_выплаты\n",
       "1    19.0     43200.0   1            0                    3\n",
       "0    21.0     37200.0   0            0                    3\n",
       "1    30.0     49900.0   1            0                    3\n",
       "0    28.0     39800.0   1            0                    3\n",
       "     31.0     49400.0   1            0                    3\n",
       "                                                         ..\n",
       "     35.0     37400.0   0            0                    1\n",
       "              37100.0   0            0                    1\n",
       "              36200.0   1            0                    1\n",
       "              36100.0   2            0                    1\n",
       "1    65.0     39700.0   1            5                    1\n",
       "Length: 4847, dtype: int64"
      ]
     },
     "execution_count": 11,
     "metadata": {},
     "output_type": "execute_result"
    }
   ],
   "source": [
    "df.value_counts()"
   ]
  },
  {
   "cell_type": "markdown",
   "id": "12ee54d8",
   "metadata": {},
   "source": [
    "# 2.  Исследования операций с линейной регрессией"
   ]
  },
  {
   "cell_type": "markdown",
   "id": "50a9a61c",
   "metadata": {},
   "source": [
    "Признаки умножают на обратимую матрицу. Изменится ли качество линейной регрессии? (Её можно обучить заново.) Обучим линейную регрессию и посмотрим "
   ]
  },
  {
   "cell_type": "code",
   "execution_count": 12,
   "id": "5d94aff1",
   "metadata": {},
   "outputs": [],
   "source": [
    "model = LinearRegression()\n",
    "random_matrix = np.random.randint(1, 10, (4, 4))\n",
    "np.linalg.inv(random_matrix)\n",
    "features = df.drop(columns= ['страховые_выплаты'])\n",
    "target = df['страховые_выплаты']\n",
    "features_train, features_test, target_train, target_test = (train_test_split(features, target, train_size=0.75, \n",
    "                                                                             random_state=12345))    "
   ]
  },
  {
   "cell_type": "code",
   "execution_count": 13,
   "id": "47e2d88f",
   "metadata": {},
   "outputs": [
    {
     "data": {
      "text/plain": [
       "LinearRegression()"
      ]
     },
     "execution_count": 13,
     "metadata": {},
     "output_type": "execute_result"
    }
   ],
   "source": [
    "model.fit(features_train , target_train)"
   ]
  },
  {
   "cell_type": "code",
   "execution_count": 14,
   "id": "b6ddbcf3",
   "metadata": {},
   "outputs": [
    {
     "data": {
      "text/plain": [
       "0.43522757127026546"
      ]
     },
     "execution_count": 14,
     "metadata": {},
     "output_type": "execute_result"
    }
   ],
   "source": [
    "r2_score(target_test, model.predict(features_test))"
   ]
  },
  {
   "cell_type": "code",
   "execution_count": 15,
   "id": "08942817",
   "metadata": {},
   "outputs": [],
   "source": [
    "features = features @ random_matrix\n",
    "features_train, features_test, target_train, target_test = (train_test_split(features, target, train_size=0.75, \n",
    "                                                                             random_state=12345))  "
   ]
  },
  {
   "cell_type": "code",
   "execution_count": 16,
   "id": "5406b6a2",
   "metadata": {},
   "outputs": [
    {
     "data": {
      "text/plain": [
       "LinearRegression()"
      ]
     },
     "execution_count": 16,
     "metadata": {},
     "output_type": "execute_result"
    }
   ],
   "source": [
    "model.fit(features_train, target_train)"
   ]
  },
  {
   "cell_type": "code",
   "execution_count": 17,
   "id": "25ea4501",
   "metadata": {},
   "outputs": [
    {
     "data": {
      "text/plain": [
       "0.4352275712699484"
      ]
     },
     "execution_count": 17,
     "metadata": {},
     "output_type": "execute_result"
    }
   ],
   "source": [
    "r2_score(target_test, model.predict(features_test))"
   ]
  },
  {
   "cell_type": "markdown",
   "id": "48e80d00",
   "metadata": {},
   "source": [
    "Результаты в пределах погрешности вычислений.  \n",
    "Обоснование:"
   ]
  },
  {
   "cell_type": "markdown",
   "id": "e9f54e5a",
   "metadata": {},
   "source": [
    "\n",
    "Xo - рандомная обратимая матрица\n",
    "   \n",
    "$$\n",
    "w' = (X'^TX')^{-1}X'^Ty\n",
    "$$\n",
    "$$   \n",
    "a' = X'w'\n",
    "$$ \n",
    "$$   \n",
    "X' = XXo\n",
    "$$  \n",
    "$$    \n",
    "w' = ((XXo)^TXXo)^{-1}(XXo)^Ty = Xo^{-1}(X^TX)^{-1}(Xo^T)^{-1} Xo^T X^T y  = Xo^{-1}(X^TX)^{-1} X^T y \n",
    "$$ \n",
    "$$\n",
    "w = (X^TX)^{-1}X^Ty\n",
    "$$\n",
    "$$\n",
    "w' = Xo^{-1}w \n",
    "$$    \n",
    "$$\n",
    "a' = XXoXo^{-1}w = Xw = a\n",
    "$$ \n"
   ]
  },
  {
   "cell_type": "markdown",
   "id": "15521799",
   "metadata": {},
   "source": [
    "# 3.  Алгоритм защиты данных и реализация алгоритма "
   ]
  },
  {
   "cell_type": "markdown",
   "id": "2197872b",
   "metadata": {},
   "source": [
    "Так как качество работы не меняется, будем домножать матрицу признаков на случайную обратимую матрицу.\n",
    "Для каждого датасета можно изспользовать разные матрицы. "
   ]
  },
  {
   "cell_type": "code",
   "execution_count": 18,
   "id": "cad46a49",
   "metadata": {},
   "outputs": [],
   "source": [
    "random_matrix = np.random.randint(1, 10, (4, 4))\n",
    "features = df.drop(columns= ['страховые_выплаты'])\n",
    "features = features @ random_matrix\n",
    "features_train, features_test, target_train, target_test = (train_test_split(features, target, train_size=0.75, \n",
    "                                                                             random_state=12345)) "
   ]
  },
  {
   "cell_type": "code",
   "execution_count": 19,
   "id": "564ada11",
   "metadata": {},
   "outputs": [
    {
     "data": {
      "text/plain": [
       "array([[ 0.06060606,  0.34090909, -0.16666667, -0.16666667],\n",
       "       [-0.04545455, -0.06818182,  0.5       , -0.5       ],\n",
       "       [ 0.18181818,  0.02272727, -0.5       ,  0.5       ],\n",
       "       [-0.10606061, -0.15909091,  0.16666667,  0.16666667]])"
      ]
     },
     "execution_count": 19,
     "metadata": {},
     "output_type": "execute_result"
    }
   ],
   "source": [
    "np.linalg.inv(random_matrix)"
   ]
  },
  {
   "cell_type": "code",
   "execution_count": 20,
   "id": "bb5594c0",
   "metadata": {},
   "outputs": [
    {
     "data": {
      "text/plain": [
       "0.4352275712702788"
      ]
     },
     "execution_count": 20,
     "metadata": {},
     "output_type": "execute_result"
    }
   ],
   "source": [
    "model.fit(features_train, target_train)\n",
    "r2_score(target_test, model.predict(features_test))"
   ]
  },
  {
   "cell_type": "markdown",
   "id": "d5686f16",
   "metadata": {},
   "source": [
    "Обоснование дано в пункте 2"
   ]
  },
  {
   "cell_type": "markdown",
   "id": "5f613399",
   "metadata": {},
   "source": [
    "# 4.  Вывод"
   ]
  },
  {
   "cell_type": "markdown",
   "id": "22d4a3e6",
   "metadata": {},
   "source": [
    "Постановка задачи:\n",
    "\n",
    "Защитить данные клиентов страховой компании «Хоть потоп». Разработать метод преобразования данных,такой чтобы по ним было сложно восстановить персональную информацию. Обосновать корректность его работы.\n",
    "Нужно защитить данные, чтобы при преобразовании качество моделей машинного обучения не ухудшилось. Подбирать наилучшую модель не требуется."
   ]
  },
  {
   "cell_type": "markdown",
   "id": "2eb9ddb9",
   "metadata": {},
   "source": [
    "Работа была выполнена в несколько этапов:\n",
    "\n",
    "    - Загрузка данных  \n",
    "    - Исследования операций с линейной регрессией\n",
    "    - Алгоритм защиты данных и реализация алгоритма "
   ]
  },
  {
   "cell_type": "markdown",
   "id": "d8a3a35e",
   "metadata": {},
   "source": [
    "На первом этапе были произведены загрузки и анализ данных\n"
   ]
  },
  {
   "cell_type": "markdown",
   "id": "47b4d1b8",
   "metadata": {},
   "source": [
    "На втором этапе было дано обоснование причины по которой при перемножении признаков точность модели не изменяется"
   ]
  },
  {
   "cell_type": "markdown",
   "id": "0646b3c8",
   "metadata": {},
   "source": [
    "На третьем этапе был предложен алгоритм шифрования данных (умножение на случайную матрицу) и представлена реализация"
   ]
  }
 ],
 "metadata": {
  "ExecuteTimeLog": [
   {
    "duration": 2234,
    "start_time": "2023-10-28T17:23:13.453Z"
   },
   {
    "duration": 3,
    "start_time": "2023-10-28T17:23:15.689Z"
   },
   {
    "duration": 3,
    "start_time": "2023-10-28T17:23:15.693Z"
   },
   {
    "duration": 131,
    "start_time": "2023-10-28T17:23:15.698Z"
   },
   {
    "duration": 11,
    "start_time": "2023-10-28T17:23:15.831Z"
   },
   {
    "duration": 4,
    "start_time": "2023-10-28T17:23:15.843Z"
   },
   {
    "duration": 12,
    "start_time": "2023-10-28T17:23:15.848Z"
   },
   {
    "duration": 5,
    "start_time": "2023-10-28T17:23:15.861Z"
   },
   {
    "duration": 4,
    "start_time": "2023-10-28T17:23:15.868Z"
   },
   {
    "duration": 5,
    "start_time": "2023-10-28T17:23:15.874Z"
   },
   {
    "duration": 6,
    "start_time": "2023-10-28T17:23:15.880Z"
   },
   {
    "duration": 6,
    "start_time": "2023-10-28T17:23:15.887Z"
   },
   {
    "duration": 1472,
    "start_time": "2023-10-28T17:23:15.894Z"
   },
   {
    "duration": 3000,
    "start_time": "2023-10-28T17:24:02.420Z"
   },
   {
    "duration": 2,
    "start_time": "2023-10-28T17:24:05.422Z"
   },
   {
    "duration": 6,
    "start_time": "2023-10-28T17:24:05.425Z"
   },
   {
    "duration": 93,
    "start_time": "2023-10-28T17:24:05.433Z"
   },
   {
    "duration": 11,
    "start_time": "2023-10-28T17:24:05.527Z"
   },
   {
    "duration": 4,
    "start_time": "2023-10-28T17:24:05.539Z"
   },
   {
    "duration": 32,
    "start_time": "2023-10-28T17:24:05.544Z"
   },
   {
    "duration": 6,
    "start_time": "2023-10-28T17:24:05.577Z"
   },
   {
    "duration": 14,
    "start_time": "2023-10-28T17:24:05.584Z"
   },
   {
    "duration": 14,
    "start_time": "2023-10-28T17:24:05.600Z"
   },
   {
    "duration": 8,
    "start_time": "2023-10-28T17:24:05.616Z"
   },
   {
    "duration": 17,
    "start_time": "2023-10-28T17:24:05.625Z"
   },
   {
    "duration": 423,
    "start_time": "2023-10-28T17:24:05.644Z"
   },
   {
    "duration": 168176,
    "start_time": "2023-10-28T17:24:06.069Z"
   },
   {
    "duration": 293,
    "start_time": "2023-10-28T17:26:54.247Z"
   },
   {
    "duration": 430,
    "start_time": "2023-10-28T17:26:54.541Z"
   },
   {
    "duration": 2183,
    "start_time": "2023-10-28T17:29:02.739Z"
   },
   {
    "duration": 101,
    "start_time": "2023-10-28T17:29:04.924Z"
   },
   {
    "duration": 0,
    "start_time": "2023-10-28T17:29:05.026Z"
   },
   {
    "duration": 0,
    "start_time": "2023-10-28T17:29:05.028Z"
   },
   {
    "duration": 0,
    "start_time": "2023-10-28T17:29:05.029Z"
   },
   {
    "duration": 0,
    "start_time": "2023-10-28T17:29:05.030Z"
   },
   {
    "duration": 0,
    "start_time": "2023-10-28T17:29:05.031Z"
   },
   {
    "duration": 0,
    "start_time": "2023-10-28T17:29:05.032Z"
   },
   {
    "duration": 0,
    "start_time": "2023-10-28T17:29:05.034Z"
   },
   {
    "duration": 0,
    "start_time": "2023-10-28T17:29:05.035Z"
   },
   {
    "duration": 0,
    "start_time": "2023-10-28T17:29:05.036Z"
   },
   {
    "duration": 0,
    "start_time": "2023-10-28T17:29:05.037Z"
   },
   {
    "duration": 0,
    "start_time": "2023-10-28T17:29:05.038Z"
   },
   {
    "duration": 0,
    "start_time": "2023-10-28T17:29:05.039Z"
   },
   {
    "duration": 0,
    "start_time": "2023-10-28T17:29:05.040Z"
   },
   {
    "duration": 0,
    "start_time": "2023-10-28T17:29:05.041Z"
   },
   {
    "duration": 0,
    "start_time": "2023-10-28T17:29:05.043Z"
   },
   {
    "duration": 2194,
    "start_time": "2023-10-28T17:29:29.717Z"
   },
   {
    "duration": 4,
    "start_time": "2023-10-28T17:29:31.913Z"
   },
   {
    "duration": 8,
    "start_time": "2023-10-28T17:29:31.918Z"
   },
   {
    "duration": 94,
    "start_time": "2023-10-28T17:29:31.928Z"
   },
   {
    "duration": 10,
    "start_time": "2023-10-28T17:29:32.024Z"
   },
   {
    "duration": 9,
    "start_time": "2023-10-28T17:29:32.035Z"
   },
   {
    "duration": 29,
    "start_time": "2023-10-28T17:29:32.045Z"
   },
   {
    "duration": 6,
    "start_time": "2023-10-28T17:29:32.076Z"
   },
   {
    "duration": 5,
    "start_time": "2023-10-28T17:29:32.084Z"
   },
   {
    "duration": 5,
    "start_time": "2023-10-28T17:29:32.092Z"
   },
   {
    "duration": 14,
    "start_time": "2023-10-28T17:29:32.098Z"
   },
   {
    "duration": 5,
    "start_time": "2023-10-28T17:29:32.113Z"
   },
   {
    "duration": 352,
    "start_time": "2023-10-28T17:29:32.119Z"
   },
   {
    "duration": 2276,
    "start_time": "2023-10-28T17:30:59.740Z"
   },
   {
    "duration": 4,
    "start_time": "2023-10-28T17:31:02.018Z"
   },
   {
    "duration": 17,
    "start_time": "2023-10-28T17:31:02.023Z"
   },
   {
    "duration": 96,
    "start_time": "2023-10-28T17:31:02.041Z"
   },
   {
    "duration": 11,
    "start_time": "2023-10-28T17:31:02.138Z"
   },
   {
    "duration": 11,
    "start_time": "2023-10-28T17:31:02.150Z"
   },
   {
    "duration": 12,
    "start_time": "2023-10-28T17:31:02.162Z"
   },
   {
    "duration": 5,
    "start_time": "2023-10-28T17:31:02.176Z"
   },
   {
    "duration": 4,
    "start_time": "2023-10-28T17:31:02.183Z"
   },
   {
    "duration": 5,
    "start_time": "2023-10-28T17:31:02.189Z"
   },
   {
    "duration": 18,
    "start_time": "2023-10-28T17:31:02.196Z"
   },
   {
    "duration": 24,
    "start_time": "2023-10-28T17:31:02.216Z"
   },
   {
    "duration": 7,
    "start_time": "2023-10-28T17:31:02.241Z"
   },
   {
    "duration": 438,
    "start_time": "2023-10-28T17:31:02.250Z"
   },
   {
    "duration": 146353,
    "start_time": "2023-10-28T17:31:02.690Z"
   },
   {
    "duration": 125,
    "start_time": "2023-10-28T17:33:29.044Z"
   },
   {
    "duration": 437,
    "start_time": "2023-10-28T17:33:29.244Z"
   },
   {
    "duration": 123556,
    "start_time": "2023-10-28T17:33:29.683Z"
   },
   {
    "duration": 118,
    "start_time": "2023-10-28T17:35:33.241Z"
   },
   {
    "duration": 6,
    "start_time": "2023-10-28T17:36:34.126Z"
   },
   {
    "duration": 10,
    "start_time": "2023-10-28T17:36:36.182Z"
   },
   {
    "duration": 2255,
    "start_time": "2023-10-31T18:38:04.444Z"
   },
   {
    "duration": 4,
    "start_time": "2023-10-31T18:38:06.702Z"
   },
   {
    "duration": 5,
    "start_time": "2023-10-31T18:38:06.708Z"
   },
   {
    "duration": 153,
    "start_time": "2023-10-31T18:38:06.716Z"
   },
   {
    "duration": 16,
    "start_time": "2023-10-31T18:38:06.872Z"
   },
   {
    "duration": 6,
    "start_time": "2023-10-31T18:38:06.890Z"
   },
   {
    "duration": 26,
    "start_time": "2023-10-31T18:38:06.897Z"
   },
   {
    "duration": 6,
    "start_time": "2023-10-31T18:38:06.925Z"
   },
   {
    "duration": 6,
    "start_time": "2023-10-31T18:38:06.933Z"
   },
   {
    "duration": 27,
    "start_time": "2023-10-31T18:38:06.943Z"
   },
   {
    "duration": 14,
    "start_time": "2023-10-31T18:38:06.971Z"
   },
   {
    "duration": 57,
    "start_time": "2023-10-31T18:38:06.987Z"
   },
   {
    "duration": 99,
    "start_time": "2023-10-31T18:38:07.046Z"
   },
   {
    "duration": 8,
    "start_time": "2023-10-31T18:38:07.147Z"
   },
   {
    "duration": 8,
    "start_time": "2023-10-31T18:38:07.156Z"
   },
   {
    "duration": 26,
    "start_time": "2023-10-31T18:38:07.166Z"
   },
   {
    "duration": 9,
    "start_time": "2023-10-31T18:38:07.194Z"
   },
   {
    "duration": 45,
    "start_time": "2023-10-31T18:38:07.204Z"
   },
   {
    "duration": 32,
    "start_time": "2023-10-31T18:38:07.251Z"
   },
   {
    "duration": 69,
    "start_time": "2023-10-31T18:38:07.285Z"
   },
   {
    "duration": 2255,
    "start_time": "2023-10-31T19:29:29.861Z"
   },
   {
    "duration": 4,
    "start_time": "2023-10-31T19:29:32.119Z"
   },
   {
    "duration": 33,
    "start_time": "2023-10-31T19:29:32.124Z"
   },
   {
    "duration": 131,
    "start_time": "2023-10-31T19:29:32.159Z"
   },
   {
    "duration": 12,
    "start_time": "2023-10-31T19:29:32.292Z"
   },
   {
    "duration": 25,
    "start_time": "2023-10-31T19:29:32.306Z"
   },
   {
    "duration": 34,
    "start_time": "2023-10-31T19:29:32.333Z"
   },
   {
    "duration": 17,
    "start_time": "2023-10-31T19:29:32.369Z"
   },
   {
    "duration": 22,
    "start_time": "2023-10-31T19:29:32.388Z"
   },
   {
    "duration": 48,
    "start_time": "2023-10-31T19:29:32.414Z"
   },
   {
    "duration": 13,
    "start_time": "2023-10-31T19:29:32.464Z"
   },
   {
    "duration": 22,
    "start_time": "2023-10-31T19:29:32.479Z"
   },
   {
    "duration": 42,
    "start_time": "2023-10-31T19:29:32.503Z"
   },
   {
    "duration": 22,
    "start_time": "2023-10-31T19:29:32.547Z"
   },
   {
    "duration": 78,
    "start_time": "2023-10-31T19:29:32.571Z"
   },
   {
    "duration": 14,
    "start_time": "2023-10-31T19:29:32.653Z"
   },
   {
    "duration": 24,
    "start_time": "2023-10-31T19:29:32.668Z"
   },
   {
    "duration": 18,
    "start_time": "2023-10-31T19:29:32.693Z"
   },
   {
    "duration": 21,
    "start_time": "2023-10-31T19:29:32.713Z"
   },
   {
    "duration": 24,
    "start_time": "2023-10-31T19:29:32.736Z"
   },
   {
    "duration": 11,
    "start_time": "2023-10-31T19:29:32.762Z"
   },
   {
    "duration": 75,
    "start_time": "2023-10-31T19:29:32.775Z"
   },
   {
    "duration": 2397,
    "start_time": "2023-10-31T19:30:34.991Z"
   },
   {
    "duration": 4,
    "start_time": "2023-10-31T19:30:37.391Z"
   },
   {
    "duration": 13,
    "start_time": "2023-10-31T19:30:37.397Z"
   },
   {
    "duration": 124,
    "start_time": "2023-10-31T19:30:37.412Z"
   },
   {
    "duration": 15,
    "start_time": "2023-10-31T19:30:37.538Z"
   },
   {
    "duration": 5,
    "start_time": "2023-10-31T19:30:37.555Z"
   },
   {
    "duration": 24,
    "start_time": "2023-10-31T19:30:37.562Z"
   },
   {
    "duration": 10,
    "start_time": "2023-10-31T19:30:37.589Z"
   },
   {
    "duration": 9,
    "start_time": "2023-10-31T19:30:37.601Z"
   },
   {
    "duration": 52,
    "start_time": "2023-10-31T19:30:37.613Z"
   },
   {
    "duration": 20,
    "start_time": "2023-10-31T19:30:37.667Z"
   },
   {
    "duration": 10,
    "start_time": "2023-10-31T19:30:37.689Z"
   },
   {
    "duration": 54,
    "start_time": "2023-10-31T19:30:37.701Z"
   },
   {
    "duration": 12,
    "start_time": "2023-10-31T19:30:37.758Z"
   },
   {
    "duration": 6,
    "start_time": "2023-10-31T19:30:37.776Z"
   },
   {
    "duration": 11,
    "start_time": "2023-10-31T19:30:37.844Z"
   },
   {
    "duration": 9,
    "start_time": "2023-10-31T19:30:37.857Z"
   },
   {
    "duration": 10,
    "start_time": "2023-10-31T19:30:37.868Z"
   },
   {
    "duration": 11,
    "start_time": "2023-10-31T19:30:37.881Z"
   },
   {
    "duration": 70,
    "start_time": "2023-10-31T19:30:37.894Z"
   }
  ],
  "kernelspec": {
   "display_name": "Python 3 (ipykernel)",
   "language": "python",
   "name": "python3"
  },
  "language_info": {
   "codemirror_mode": {
    "name": "ipython",
    "version": 3
   },
   "file_extension": ".py",
   "mimetype": "text/x-python",
   "name": "python",
   "nbconvert_exporter": "python",
   "pygments_lexer": "ipython3",
   "version": "3.11.5"
  },
  "toc": {
   "base_numbering": 1,
   "nav_menu": {},
   "number_sections": true,
   "sideBar": true,
   "skip_h1_title": true,
   "title_cell": "Table of Contents",
   "title_sidebar": "Contents",
   "toc_cell": false,
   "toc_position": {},
   "toc_section_display": true,
   "toc_window_display": false
  }
 },
 "nbformat": 4,
 "nbformat_minor": 5
}
